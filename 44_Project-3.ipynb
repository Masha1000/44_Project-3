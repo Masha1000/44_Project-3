{
 "cells": [
  {
   "cell_type": "markdown",
   "metadata": {},
   "source": [
    "## PROJECT-3. Анализ воронки \n",
    "\n",
    "### Цель\n",
    "#### Исследовать поведение пользователей в обновлённом приложении.\n",
    "\n",
    "### Гипотеза 1\n",
    "#### По идее, должна быть разница в поведении групп, которые проходят и не проходят обучение. Но так ли это? Влияет ли обучение на скорость прохождения других этапов игры?\n",
    "### Гипотеза 2\n",
    "#### Кажется, повторное прохождение обучения положительно влияет на оплату, верно?\n",
    "### Гипотеза 3\n",
    "#### Если пользователь сначала выбирает сложность обучения, будет ли он потом проходить обучение?\n",
    "\n",
    "### Задачи\n",
    "\n",
    "#### 1. Определить, насколько обучение сокращает время прохождения этапов игры.\n",
    "#### 2. Доказать, что успешное обучение само по себе влияет на оплату и не имеет значения то, каким этапом оно шло.\n",
    "#### 3. Определить, насколько прозрачен процесс взаимодействия с игрой."
   ]
  },
  {
   "cell_type": "markdown",
   "metadata": {},
   "source": [
    "## Обработка и подготовка данных"
   ]
  },
  {
   "cell_type": "markdown",
   "metadata": {},
   "source": [
    "Импортируем библиотеки:"
   ]
  },
  {
   "cell_type": "code",
   "execution_count": 320,
   "metadata": {},
   "outputs": [],
   "source": [
    "import pandas as pd\n",
    "import matplotlib.pyplot as plt\n",
    "%matplotlib inline\n",
    "import seaborn as sns"
   ]
  },
  {
   "cell_type": "markdown",
   "metadata": {},
   "source": [
    "Читаем данные из файлов:"
   ]
  },
  {
   "cell_type": "code",
   "execution_count": 321,
   "metadata": {},
   "outputs": [],
   "source": [
    "\n",
    "events_dataf = pd.read_csv('data/7_4_Events.csv') \n",
    "events_df = events_dataf.copy()"
   ]
  },
  {
   "cell_type": "markdown",
   "metadata": {},
   "source": [
    "Преобразуем дату к стандарту datetime, с учетом возникшей ошибки:"
   ]
  },
  {
   "cell_type": "code",
   "execution_count": 322,
   "metadata": {},
   "outputs": [],
   "source": [
    "events_df['start_time'] =  pd.to_datetime(events_df['start_time'], format='%Y-%m-%dT%H:%M:%S', dayfirst=True, errors='coerce')"
   ]
  },
  {
   "cell_type": "markdown",
   "metadata": {},
   "source": [
    "Найдем всех пользователей, которые зарегистрировались в 2018 году"
   ]
  },
  {
   "cell_type": "code",
   "execution_count": 323,
   "metadata": {},
   "outputs": [],
   "source": [
    "mask1 = events_df['event_type'] == 'registration'\n",
    "mask2 = events_df['start_time'] >= '2018-01-01'\n",
    "mask3 = events_df['start_time'] < '2019-01-01'\n",
    "user_registration_in_2018 = events_df[mask1 & mask2 & mask3]['user_id'].to_list()"
   ]
  },
  {
   "cell_type": "markdown",
   "metadata": {},
   "source": [
    "Выведем events_df по пользователям, зарегистрировавшимся в 2018 году:"
   ]
  },
  {
   "cell_type": "code",
   "execution_count": 324,
   "metadata": {},
   "outputs": [],
   "source": [
    "events_df = events_df[events_df['user_id'].isin(user_registration_in_2018)]"
   ]
  },
  {
   "cell_type": "markdown",
   "metadata": {},
   "source": [
    "Прочитаем данные из 2-го файла с оплатами:"
   ]
  },
  {
   "cell_type": "code",
   "execution_count": 325,
   "metadata": {},
   "outputs": [],
   "source": [
    "purchase_dataf = pd.read_csv('data/purchase.csv') \n",
    "purchase_df = purchase_dataf.copy()"
   ]
  },
  {
   "cell_type": "markdown",
   "metadata": {},
   "source": [
    "Выведем purchase_df по пользователям, зарегистрировавшимся в 2018 году:"
   ]
  },
  {
   "cell_type": "code",
   "execution_count": 326,
   "metadata": {},
   "outputs": [],
   "source": [
    "purchase_df = purchase_df[purchase_df['user_id'].isin(user_registration_in_2018)]"
   ]
  },
  {
   "cell_type": "markdown",
   "metadata": {},
   "source": [
    "Преобразуем дату к формату datetime:"
   ]
  },
  {
   "cell_type": "code",
   "execution_count": 327,
   "metadata": {},
   "outputs": [],
   "source": [
    "purchase_df['event_datetime'] =  pd.to_datetime(purchase_df['event_datetime'])"
   ]
  },
  {
   "cell_type": "markdown",
   "metadata": {},
   "source": [
    "Добавим в таблицу с покупками столбец \"event_type\", равный \"purchase\":"
   ]
  },
  {
   "cell_type": "code",
   "execution_count": 328,
   "metadata": {},
   "outputs": [],
   "source": [
    "purchase_df['event_type'] = 'purchase'"
   ]
  },
  {
   "cell_type": "markdown",
   "metadata": {},
   "source": [
    "Переименуем столбцы с одинакомыми названиями"
   ]
  },
  {
   "cell_type": "code",
   "execution_count": 329,
   "metadata": {},
   "outputs": [],
   "source": [
    "events_df = events_df.rename(columns={'id': 'event_id'})\n",
    "purchase_df = purchase_df.rename(columns={'id': 'purchase_id'})"
   ]
  },
  {
   "cell_type": "markdown",
   "metadata": {},
   "source": [
    "Также переименуем столбец start_time, чтобы время покупок и остальных событий были в одном столбце"
   ]
  },
  {
   "cell_type": "code",
   "execution_count": 330,
   "metadata": {},
   "outputs": [],
   "source": [
    "events_df = events_df.rename(columns={'start_time': 'event_datetime'})"
   ]
  },
  {
   "cell_type": "markdown",
   "metadata": {},
   "source": [
    "Объединим эти две таблицы:"
   ]
  },
  {
   "cell_type": "code",
   "execution_count": 331,
   "metadata": {},
   "outputs": [
    {
     "data": {
      "text/html": [
       "<div>\n",
       "<style scoped>\n",
       "    .dataframe tbody tr th:only-of-type {\n",
       "        vertical-align: middle;\n",
       "    }\n",
       "\n",
       "    .dataframe tbody tr th {\n",
       "        vertical-align: top;\n",
       "    }\n",
       "\n",
       "    .dataframe thead th {\n",
       "        text-align: right;\n",
       "    }\n",
       "</style>\n",
       "<table border=\"1\" class=\"dataframe\">\n",
       "  <thead>\n",
       "    <tr style=\"text-align: right;\">\n",
       "      <th></th>\n",
       "      <th>event_id</th>\n",
       "      <th>event_type</th>\n",
       "      <th>selected_level</th>\n",
       "      <th>event_datetime</th>\n",
       "      <th>tutorial_id</th>\n",
       "      <th>user_id</th>\n",
       "      <th>purchase_id</th>\n",
       "      <th>amount</th>\n",
       "    </tr>\n",
       "  </thead>\n",
       "  <tbody>\n",
       "    <tr>\n",
       "      <th>0</th>\n",
       "      <td>80308.0</td>\n",
       "      <td>registration</td>\n",
       "      <td>NaN</td>\n",
       "      <td>2018-01-01 03:48:40</td>\n",
       "      <td>NaN</td>\n",
       "      <td>27832</td>\n",
       "      <td>NaN</td>\n",
       "      <td>NaN</td>\n",
       "    </tr>\n",
       "    <tr>\n",
       "      <th>1</th>\n",
       "      <td>80309.0</td>\n",
       "      <td>registration</td>\n",
       "      <td>NaN</td>\n",
       "      <td>2018-01-01 04:07:25</td>\n",
       "      <td>NaN</td>\n",
       "      <td>27833</td>\n",
       "      <td>NaN</td>\n",
       "      <td>NaN</td>\n",
       "    </tr>\n",
       "    <tr>\n",
       "      <th>2</th>\n",
       "      <td>80310.0</td>\n",
       "      <td>registration</td>\n",
       "      <td>NaN</td>\n",
       "      <td>2018-01-01 08:35:10</td>\n",
       "      <td>NaN</td>\n",
       "      <td>27834</td>\n",
       "      <td>NaN</td>\n",
       "      <td>NaN</td>\n",
       "    </tr>\n",
       "    <tr>\n",
       "      <th>3</th>\n",
       "      <td>80311.0</td>\n",
       "      <td>registration</td>\n",
       "      <td>NaN</td>\n",
       "      <td>2018-01-01 11:54:47</td>\n",
       "      <td>NaN</td>\n",
       "      <td>27835</td>\n",
       "      <td>NaN</td>\n",
       "      <td>NaN</td>\n",
       "    </tr>\n",
       "    <tr>\n",
       "      <th>4</th>\n",
       "      <td>80312.0</td>\n",
       "      <td>registration</td>\n",
       "      <td>NaN</td>\n",
       "      <td>2018-01-01 13:28:07</td>\n",
       "      <td>NaN</td>\n",
       "      <td>27836</td>\n",
       "      <td>NaN</td>\n",
       "      <td>NaN</td>\n",
       "    </tr>\n",
       "    <tr>\n",
       "      <th>...</th>\n",
       "      <td>...</td>\n",
       "      <td>...</td>\n",
       "      <td>...</td>\n",
       "      <td>...</td>\n",
       "      <td>...</td>\n",
       "      <td>...</td>\n",
       "      <td>...</td>\n",
       "      <td>...</td>\n",
       "    </tr>\n",
       "    <tr>\n",
       "      <th>68554</th>\n",
       "      <td>NaN</td>\n",
       "      <td>purchase</td>\n",
       "      <td>NaN</td>\n",
       "      <td>2019-01-02 03:48:19</td>\n",
       "      <td>NaN</td>\n",
       "      <td>47498</td>\n",
       "      <td>18441.0</td>\n",
       "      <td>100.0</td>\n",
       "    </tr>\n",
       "    <tr>\n",
       "      <th>68555</th>\n",
       "      <td>NaN</td>\n",
       "      <td>purchase</td>\n",
       "      <td>NaN</td>\n",
       "      <td>2019-01-02 23:26:26</td>\n",
       "      <td>NaN</td>\n",
       "      <td>47647</td>\n",
       "      <td>18442.0</td>\n",
       "      <td>150.0</td>\n",
       "    </tr>\n",
       "    <tr>\n",
       "      <th>68556</th>\n",
       "      <td>NaN</td>\n",
       "      <td>purchase</td>\n",
       "      <td>NaN</td>\n",
       "      <td>2019-01-03 00:36:36</td>\n",
       "      <td>NaN</td>\n",
       "      <td>47554</td>\n",
       "      <td>18443.0</td>\n",
       "      <td>50.0</td>\n",
       "    </tr>\n",
       "    <tr>\n",
       "      <th>68557</th>\n",
       "      <td>NaN</td>\n",
       "      <td>purchase</td>\n",
       "      <td>NaN</td>\n",
       "      <td>2019-01-04 12:51:41</td>\n",
       "      <td>NaN</td>\n",
       "      <td>47742</td>\n",
       "      <td>18448.0</td>\n",
       "      <td>50.0</td>\n",
       "    </tr>\n",
       "    <tr>\n",
       "      <th>68558</th>\n",
       "      <td>NaN</td>\n",
       "      <td>purchase</td>\n",
       "      <td>NaN</td>\n",
       "      <td>2019-01-06 07:14:25</td>\n",
       "      <td>NaN</td>\n",
       "      <td>47732</td>\n",
       "      <td>18452.0</td>\n",
       "      <td>150.0</td>\n",
       "    </tr>\n",
       "  </tbody>\n",
       "</table>\n",
       "<p>68559 rows × 8 columns</p>\n",
       "</div>"
      ],
      "text/plain": [
       "       event_id    event_type selected_level      event_datetime  tutorial_id  \\\n",
       "0       80308.0  registration            NaN 2018-01-01 03:48:40          NaN   \n",
       "1       80309.0  registration            NaN 2018-01-01 04:07:25          NaN   \n",
       "2       80310.0  registration            NaN 2018-01-01 08:35:10          NaN   \n",
       "3       80311.0  registration            NaN 2018-01-01 11:54:47          NaN   \n",
       "4       80312.0  registration            NaN 2018-01-01 13:28:07          NaN   \n",
       "...         ...           ...            ...                 ...          ...   \n",
       "68554       NaN      purchase            NaN 2019-01-02 03:48:19          NaN   \n",
       "68555       NaN      purchase            NaN 2019-01-02 23:26:26          NaN   \n",
       "68556       NaN      purchase            NaN 2019-01-03 00:36:36          NaN   \n",
       "68557       NaN      purchase            NaN 2019-01-04 12:51:41          NaN   \n",
       "68558       NaN      purchase            NaN 2019-01-06 07:14:25          NaN   \n",
       "\n",
       "       user_id  purchase_id  amount  \n",
       "0        27832          NaN     NaN  \n",
       "1        27833          NaN     NaN  \n",
       "2        27834          NaN     NaN  \n",
       "3        27835          NaN     NaN  \n",
       "4        27836          NaN     NaN  \n",
       "...        ...          ...     ...  \n",
       "68554    47498      18441.0   100.0  \n",
       "68555    47647      18442.0   150.0  \n",
       "68556    47554      18443.0    50.0  \n",
       "68557    47742      18448.0    50.0  \n",
       "68558    47732      18452.0   150.0  \n",
       "\n",
       "[68559 rows x 8 columns]"
      ]
     },
     "metadata": {},
     "output_type": "display_data"
    }
   ],
   "source": [
    "event_purchase_df = pd.concat(\n",
    "    [events_df,purchase_df],\n",
    "    ignore_index=True)\n",
    "display(event_purchase_df)"
   ]
  },
  {
   "cell_type": "code",
   "execution_count": 332,
   "metadata": {},
   "outputs": [
    {
     "name": "stdout",
     "output_type": "stream",
     "text": [
      "<class 'pandas.core.frame.DataFrame'>\n",
      "RangeIndex: 68559 entries, 0 to 68558\n",
      "Data columns (total 8 columns):\n",
      " #   Column          Non-Null Count  Dtype         \n",
      "---  ------          --------------  -----         \n",
      " 0   event_id        66959 non-null  float64       \n",
      " 1   event_type      68559 non-null  object        \n",
      " 2   selected_level  8342 non-null   object        \n",
      " 3   event_datetime  68559 non-null  datetime64[ns]\n",
      " 4   tutorial_id     32954 non-null  float64       \n",
      " 5   user_id         68559 non-null  int64         \n",
      " 6   purchase_id     1600 non-null   float64       \n",
      " 7   amount          1600 non-null   float64       \n",
      "dtypes: datetime64[ns](1), float64(4), int64(1), object(2)\n",
      "memory usage: 4.2+ MB\n"
     ]
    }
   ],
   "source": [
    "event_purchase_df.info()"
   ]
  },
  {
   "cell_type": "markdown",
   "metadata": {},
   "source": [
    "## Проверка гипотезы 1\n",
    "#### Для этого нам необходимо cравнить время прохождения различных этапов для пользователей, которые завершили обучение, и пользователей, не начинавших обучение. Если показатель отличается, выяснить, насколько."
   ]
  },
  {
   "cell_type": "markdown",
   "metadata": {},
   "source": [
    "Найдем пользователей, которые завершили обучение:"
   ]
  },
  {
   "cell_type": "code",
   "execution_count": 333,
   "metadata": {},
   "outputs": [],
   "source": [
    "user_tutorial_finish = event_purchase_df[event_purchase_df['event_type'] == 'tutorial_finish']['user_id'].to_list()"
   ]
  },
  {
   "cell_type": "markdown",
   "metadata": {},
   "source": [
    "Найдем пользователей, не начинавших обучение:"
   ]
  },
  {
   "cell_type": "code",
   "execution_count": 334,
   "metadata": {},
   "outputs": [],
   "source": [
    "user_tutorial_start = event_purchase_df[\n",
    "    event_purchase_df['event_type'] == 'tutorial_start']['user_id'].unique()"
   ]
  },
  {
   "cell_type": "markdown",
   "metadata": {},
   "source": [
    "Добавим группировочный столбец, где укажем, кто прошел обучение, кто не начинал учиться, а также кто не окончил:"
   ]
  },
  {
   "cell_type": "code",
   "execution_count": 335,
   "metadata": {},
   "outputs": [
    {
     "data": {
      "text/html": [
       "<div>\n",
       "<style scoped>\n",
       "    .dataframe tbody tr th:only-of-type {\n",
       "        vertical-align: middle;\n",
       "    }\n",
       "\n",
       "    .dataframe tbody tr th {\n",
       "        vertical-align: top;\n",
       "    }\n",
       "\n",
       "    .dataframe thead th {\n",
       "        text-align: right;\n",
       "    }\n",
       "</style>\n",
       "<table border=\"1\" class=\"dataframe\">\n",
       "  <thead>\n",
       "    <tr style=\"text-align: right;\">\n",
       "      <th></th>\n",
       "      <th>event_id</th>\n",
       "      <th>event_type</th>\n",
       "      <th>selected_level</th>\n",
       "      <th>event_datetime</th>\n",
       "      <th>tutorial_id</th>\n",
       "      <th>user_id</th>\n",
       "      <th>purchase_id</th>\n",
       "      <th>amount</th>\n",
       "      <th>education</th>\n",
       "    </tr>\n",
       "  </thead>\n",
       "  <tbody>\n",
       "    <tr>\n",
       "      <th>0</th>\n",
       "      <td>80308.0</td>\n",
       "      <td>registration</td>\n",
       "      <td>NaN</td>\n",
       "      <td>2018-01-01 03:48:40</td>\n",
       "      <td>NaN</td>\n",
       "      <td>27832</td>\n",
       "      <td>NaN</td>\n",
       "      <td>NaN</td>\n",
       "      <td>no start</td>\n",
       "    </tr>\n",
       "    <tr>\n",
       "      <th>1</th>\n",
       "      <td>80309.0</td>\n",
       "      <td>registration</td>\n",
       "      <td>NaN</td>\n",
       "      <td>2018-01-01 04:07:25</td>\n",
       "      <td>NaN</td>\n",
       "      <td>27833</td>\n",
       "      <td>NaN</td>\n",
       "      <td>NaN</td>\n",
       "      <td>finish</td>\n",
       "    </tr>\n",
       "    <tr>\n",
       "      <th>2</th>\n",
       "      <td>80310.0</td>\n",
       "      <td>registration</td>\n",
       "      <td>NaN</td>\n",
       "      <td>2018-01-01 08:35:10</td>\n",
       "      <td>NaN</td>\n",
       "      <td>27834</td>\n",
       "      <td>NaN</td>\n",
       "      <td>NaN</td>\n",
       "      <td>finish</td>\n",
       "    </tr>\n",
       "    <tr>\n",
       "      <th>3</th>\n",
       "      <td>80311.0</td>\n",
       "      <td>registration</td>\n",
       "      <td>NaN</td>\n",
       "      <td>2018-01-01 11:54:47</td>\n",
       "      <td>NaN</td>\n",
       "      <td>27835</td>\n",
       "      <td>NaN</td>\n",
       "      <td>NaN</td>\n",
       "      <td>finish</td>\n",
       "    </tr>\n",
       "    <tr>\n",
       "      <th>4</th>\n",
       "      <td>80312.0</td>\n",
       "      <td>registration</td>\n",
       "      <td>NaN</td>\n",
       "      <td>2018-01-01 13:28:07</td>\n",
       "      <td>NaN</td>\n",
       "      <td>27836</td>\n",
       "      <td>NaN</td>\n",
       "      <td>NaN</td>\n",
       "      <td>finish</td>\n",
       "    </tr>\n",
       "  </tbody>\n",
       "</table>\n",
       "</div>"
      ],
      "text/plain": [
       "   event_id    event_type selected_level      event_datetime  tutorial_id  \\\n",
       "0   80308.0  registration            NaN 2018-01-01 03:48:40          NaN   \n",
       "1   80309.0  registration            NaN 2018-01-01 04:07:25          NaN   \n",
       "2   80310.0  registration            NaN 2018-01-01 08:35:10          NaN   \n",
       "3   80311.0  registration            NaN 2018-01-01 11:54:47          NaN   \n",
       "4   80312.0  registration            NaN 2018-01-01 13:28:07          NaN   \n",
       "\n",
       "   user_id  purchase_id  amount education  \n",
       "0    27832          NaN     NaN  no start  \n",
       "1    27833          NaN     NaN    finish  \n",
       "2    27834          NaN     NaN    finish  \n",
       "3    27835          NaN     NaN    finish  \n",
       "4    27836          NaN     NaN    finish  "
      ]
     },
     "execution_count": 335,
     "metadata": {},
     "output_type": "execute_result"
    }
   ],
   "source": [
    "def education(x):\n",
    "    if x in user_tutorial_finish:\n",
    "        return 'finish'\n",
    "    elif x in user_tutorial_start:\n",
    "        return 'no finish'\n",
    "    else:\n",
    "        return 'no start'\n",
    "        \n",
    "event_purchase_df['education'] = event_purchase_df['user_id'].apply(education)\n",
    "event_purchase_df.head()"
   ]
  },
  {
   "cell_type": "markdown",
   "metadata": {},
   "source": [
    "Создадим сводную таблицу с указанием времени по разным этапам:"
   ]
  },
  {
   "cell_type": "code",
   "execution_count": 336,
   "metadata": {},
   "outputs": [
    {
     "data": {
      "text/html": [
       "<div>\n",
       "<style scoped>\n",
       "    .dataframe tbody tr th:only-of-type {\n",
       "        vertical-align: middle;\n",
       "    }\n",
       "\n",
       "    .dataframe tbody tr th {\n",
       "        vertical-align: top;\n",
       "    }\n",
       "\n",
       "    .dataframe thead th {\n",
       "        text-align: right;\n",
       "    }\n",
       "</style>\n",
       "<table border=\"1\" class=\"dataframe\">\n",
       "  <thead>\n",
       "    <tr style=\"text-align: right;\">\n",
       "      <th>event_type</th>\n",
       "      <th>user_id</th>\n",
       "      <th>education</th>\n",
       "      <th>level_choice</th>\n",
       "      <th>pack_choice</th>\n",
       "      <th>purchase</th>\n",
       "      <th>registration</th>\n",
       "      <th>tutorial_finish</th>\n",
       "      <th>tutorial_start</th>\n",
       "    </tr>\n",
       "  </thead>\n",
       "  <tbody>\n",
       "    <tr>\n",
       "      <th>0</th>\n",
       "      <td>27832</td>\n",
       "      <td>no start</td>\n",
       "      <td>NaT</td>\n",
       "      <td>NaT</td>\n",
       "      <td>NaT</td>\n",
       "      <td>2018-01-01 03:48:40</td>\n",
       "      <td>NaT</td>\n",
       "      <td>NaT</td>\n",
       "    </tr>\n",
       "    <tr>\n",
       "      <th>1</th>\n",
       "      <td>27833</td>\n",
       "      <td>finish</td>\n",
       "      <td>NaT</td>\n",
       "      <td>NaT</td>\n",
       "      <td>NaT</td>\n",
       "      <td>2018-01-01 04:07:25</td>\n",
       "      <td>2018-01-01 17:50:08</td>\n",
       "      <td>2018-01-01 17:47:40</td>\n",
       "    </tr>\n",
       "    <tr>\n",
       "      <th>2</th>\n",
       "      <td>27834</td>\n",
       "      <td>finish</td>\n",
       "      <td>NaT</td>\n",
       "      <td>NaT</td>\n",
       "      <td>NaT</td>\n",
       "      <td>2018-01-01 08:35:10</td>\n",
       "      <td>2018-01-01 19:48:01</td>\n",
       "      <td>2018-01-01 19:46:11</td>\n",
       "    </tr>\n",
       "    <tr>\n",
       "      <th>3</th>\n",
       "      <td>27835</td>\n",
       "      <td>finish</td>\n",
       "      <td>2018-01-01 20:37:22</td>\n",
       "      <td>2018-01-01 20:38:43</td>\n",
       "      <td>NaT</td>\n",
       "      <td>2018-01-01 11:54:47</td>\n",
       "      <td>2018-01-01 15:06:15</td>\n",
       "      <td>2018-01-01 15:00:51</td>\n",
       "    </tr>\n",
       "    <tr>\n",
       "      <th>4</th>\n",
       "      <td>27836</td>\n",
       "      <td>finish</td>\n",
       "      <td>NaT</td>\n",
       "      <td>NaT</td>\n",
       "      <td>NaT</td>\n",
       "      <td>2018-01-01 13:28:07</td>\n",
       "      <td>2018-01-01 15:42:58</td>\n",
       "      <td>2018-01-01 14:54:40</td>\n",
       "    </tr>\n",
       "  </tbody>\n",
       "</table>\n",
       "</div>"
      ],
      "text/plain": [
       "event_type  user_id education        level_choice         pack_choice  \\\n",
       "0             27832  no start                 NaT                 NaT   \n",
       "1             27833    finish                 NaT                 NaT   \n",
       "2             27834    finish                 NaT                 NaT   \n",
       "3             27835    finish 2018-01-01 20:37:22 2018-01-01 20:38:43   \n",
       "4             27836    finish                 NaT                 NaT   \n",
       "\n",
       "event_type purchase        registration     tutorial_finish  \\\n",
       "0               NaT 2018-01-01 03:48:40                 NaT   \n",
       "1               NaT 2018-01-01 04:07:25 2018-01-01 17:50:08   \n",
       "2               NaT 2018-01-01 08:35:10 2018-01-01 19:48:01   \n",
       "3               NaT 2018-01-01 11:54:47 2018-01-01 15:06:15   \n",
       "4               NaT 2018-01-01 13:28:07 2018-01-01 15:42:58   \n",
       "\n",
       "event_type      tutorial_start  \n",
       "0                          NaT  \n",
       "1          2018-01-01 17:47:40  \n",
       "2          2018-01-01 19:46:11  \n",
       "3          2018-01-01 15:00:51  \n",
       "4          2018-01-01 14:54:40  "
      ]
     },
     "execution_count": 336,
     "metadata": {},
     "output_type": "execute_result"
    }
   ],
   "source": [
    "user_event_purchase = event_purchase_df.pivot_table(\n",
    "    values = 'event_datetime',\n",
    "    index = ['user_id', 'education'],\n",
    "    columns = 'event_type',\n",
    "    aggfunc= 'min'\n",
    ").reset_index()\n",
    "user_event_purchase.head()"
   ]
  },
  {
   "cell_type": "markdown",
   "metadata": {},
   "source": [
    "Теперь посчитаем время прохождения различных этапов, т.к. не все этапы являются обязательными, то время каждого этапа будем считать от начального обязательного этапа (регистрации):"
   ]
  },
  {
   "cell_type": "code",
   "execution_count": 337,
   "metadata": {},
   "outputs": [
    {
     "data": {
      "text/html": [
       "<div>\n",
       "<style scoped>\n",
       "    .dataframe tbody tr th:only-of-type {\n",
       "        vertical-align: middle;\n",
       "    }\n",
       "\n",
       "    .dataframe tbody tr th {\n",
       "        vertical-align: top;\n",
       "    }\n",
       "\n",
       "    .dataframe thead th {\n",
       "        text-align: right;\n",
       "    }\n",
       "</style>\n",
       "<table border=\"1\" class=\"dataframe\">\n",
       "  <thead>\n",
       "    <tr style=\"text-align: right;\">\n",
       "      <th>event_type</th>\n",
       "      <th>user_id</th>\n",
       "      <th>education</th>\n",
       "      <th>level_choice</th>\n",
       "      <th>pack_choice</th>\n",
       "      <th>purchase</th>\n",
       "      <th>registration</th>\n",
       "      <th>tutorial_finish</th>\n",
       "      <th>tutorial_start</th>\n",
       "      <th>tutorial_start_delta</th>\n",
       "      <th>tutorial_finish_delta</th>\n",
       "      <th>level_choice_delta</th>\n",
       "      <th>pack_choice_delta</th>\n",
       "      <th>purchase_delta</th>\n",
       "    </tr>\n",
       "  </thead>\n",
       "  <tbody>\n",
       "    <tr>\n",
       "      <th>0</th>\n",
       "      <td>27832</td>\n",
       "      <td>no start</td>\n",
       "      <td>NaT</td>\n",
       "      <td>NaT</td>\n",
       "      <td>NaT</td>\n",
       "      <td>2018-01-01 03:48:40</td>\n",
       "      <td>NaT</td>\n",
       "      <td>NaT</td>\n",
       "      <td>NaT</td>\n",
       "      <td>NaT</td>\n",
       "      <td>NaT</td>\n",
       "      <td>NaT</td>\n",
       "      <td>NaT</td>\n",
       "    </tr>\n",
       "    <tr>\n",
       "      <th>1</th>\n",
       "      <td>27833</td>\n",
       "      <td>finish</td>\n",
       "      <td>NaT</td>\n",
       "      <td>NaT</td>\n",
       "      <td>NaT</td>\n",
       "      <td>2018-01-01 04:07:25</td>\n",
       "      <td>2018-01-01 17:50:08</td>\n",
       "      <td>2018-01-01 17:47:40</td>\n",
       "      <td>0 days 13:40:15</td>\n",
       "      <td>0 days 13:42:43</td>\n",
       "      <td>NaT</td>\n",
       "      <td>NaT</td>\n",
       "      <td>NaT</td>\n",
       "    </tr>\n",
       "    <tr>\n",
       "      <th>2</th>\n",
       "      <td>27834</td>\n",
       "      <td>finish</td>\n",
       "      <td>NaT</td>\n",
       "      <td>NaT</td>\n",
       "      <td>NaT</td>\n",
       "      <td>2018-01-01 08:35:10</td>\n",
       "      <td>2018-01-01 19:48:01</td>\n",
       "      <td>2018-01-01 19:46:11</td>\n",
       "      <td>0 days 11:11:01</td>\n",
       "      <td>0 days 11:12:51</td>\n",
       "      <td>NaT</td>\n",
       "      <td>NaT</td>\n",
       "      <td>NaT</td>\n",
       "    </tr>\n",
       "    <tr>\n",
       "      <th>3</th>\n",
       "      <td>27835</td>\n",
       "      <td>finish</td>\n",
       "      <td>2018-01-01 20:37:22</td>\n",
       "      <td>2018-01-01 20:38:43</td>\n",
       "      <td>NaT</td>\n",
       "      <td>2018-01-01 11:54:47</td>\n",
       "      <td>2018-01-01 15:06:15</td>\n",
       "      <td>2018-01-01 15:00:51</td>\n",
       "      <td>0 days 03:06:04</td>\n",
       "      <td>0 days 03:11:28</td>\n",
       "      <td>0 days 08:42:35</td>\n",
       "      <td>0 days 08:43:56</td>\n",
       "      <td>NaT</td>\n",
       "    </tr>\n",
       "    <tr>\n",
       "      <th>4</th>\n",
       "      <td>27836</td>\n",
       "      <td>finish</td>\n",
       "      <td>NaT</td>\n",
       "      <td>NaT</td>\n",
       "      <td>NaT</td>\n",
       "      <td>2018-01-01 13:28:07</td>\n",
       "      <td>2018-01-01 15:42:58</td>\n",
       "      <td>2018-01-01 14:54:40</td>\n",
       "      <td>0 days 01:26:33</td>\n",
       "      <td>0 days 02:14:51</td>\n",
       "      <td>NaT</td>\n",
       "      <td>NaT</td>\n",
       "      <td>NaT</td>\n",
       "    </tr>\n",
       "  </tbody>\n",
       "</table>\n",
       "</div>"
      ],
      "text/plain": [
       "event_type  user_id education        level_choice         pack_choice  \\\n",
       "0             27832  no start                 NaT                 NaT   \n",
       "1             27833    finish                 NaT                 NaT   \n",
       "2             27834    finish                 NaT                 NaT   \n",
       "3             27835    finish 2018-01-01 20:37:22 2018-01-01 20:38:43   \n",
       "4             27836    finish                 NaT                 NaT   \n",
       "\n",
       "event_type purchase        registration     tutorial_finish  \\\n",
       "0               NaT 2018-01-01 03:48:40                 NaT   \n",
       "1               NaT 2018-01-01 04:07:25 2018-01-01 17:50:08   \n",
       "2               NaT 2018-01-01 08:35:10 2018-01-01 19:48:01   \n",
       "3               NaT 2018-01-01 11:54:47 2018-01-01 15:06:15   \n",
       "4               NaT 2018-01-01 13:28:07 2018-01-01 15:42:58   \n",
       "\n",
       "event_type      tutorial_start tutorial_start_delta tutorial_finish_delta  \\\n",
       "0                          NaT                  NaT                   NaT   \n",
       "1          2018-01-01 17:47:40      0 days 13:40:15       0 days 13:42:43   \n",
       "2          2018-01-01 19:46:11      0 days 11:11:01       0 days 11:12:51   \n",
       "3          2018-01-01 15:00:51      0 days 03:06:04       0 days 03:11:28   \n",
       "4          2018-01-01 14:54:40      0 days 01:26:33       0 days 02:14:51   \n",
       "\n",
       "event_type level_choice_delta pack_choice_delta purchase_delta  \n",
       "0                         NaT               NaT            NaT  \n",
       "1                         NaT               NaT            NaT  \n",
       "2                         NaT               NaT            NaT  \n",
       "3             0 days 08:42:35   0 days 08:43:56            NaT  \n",
       "4                         NaT               NaT            NaT  "
      ]
     },
     "execution_count": 337,
     "metadata": {},
     "output_type": "execute_result"
    }
   ],
   "source": [
    "events = ['tutorial_start', 'tutorial_finish', 'level_choice', 'pack_choice', 'purchase']\n",
    "for event in events:\n",
    "    user_event_purchase['{}_delta'.format(event)] = user_event_purchase[event] - user_event_purchase['registration']\n",
    "\n",
    "user_event_purchase.head() "
   ]
  },
  {
   "cell_type": "markdown",
   "metadata": {},
   "source": [
    "Удалим лишние столбцы:"
   ]
  },
  {
   "cell_type": "code",
   "execution_count": 340,
   "metadata": {},
   "outputs": [
    {
     "data": {
      "text/html": [
       "<div>\n",
       "<style scoped>\n",
       "    .dataframe tbody tr th:only-of-type {\n",
       "        vertical-align: middle;\n",
       "    }\n",
       "\n",
       "    .dataframe tbody tr th {\n",
       "        vertical-align: top;\n",
       "    }\n",
       "\n",
       "    .dataframe thead th {\n",
       "        text-align: right;\n",
       "    }\n",
       "</style>\n",
       "<table border=\"1\" class=\"dataframe\">\n",
       "  <thead>\n",
       "    <tr style=\"text-align: right;\">\n",
       "      <th>event_type</th>\n",
       "      <th>education</th>\n",
       "      <th>tutorial_start_delta</th>\n",
       "      <th>tutorial_finish_delta</th>\n",
       "      <th>level_choice_delta</th>\n",
       "      <th>pack_choice_delta</th>\n",
       "      <th>purchase_delta</th>\n",
       "    </tr>\n",
       "  </thead>\n",
       "  <tbody>\n",
       "    <tr>\n",
       "      <th>0</th>\n",
       "      <td>no start</td>\n",
       "      <td>NaT</td>\n",
       "      <td>NaT</td>\n",
       "      <td>NaT</td>\n",
       "      <td>NaT</td>\n",
       "      <td>NaT</td>\n",
       "    </tr>\n",
       "    <tr>\n",
       "      <th>1</th>\n",
       "      <td>finish</td>\n",
       "      <td>0 days 13:40:15</td>\n",
       "      <td>0 days 13:42:43</td>\n",
       "      <td>NaT</td>\n",
       "      <td>NaT</td>\n",
       "      <td>NaT</td>\n",
       "    </tr>\n",
       "    <tr>\n",
       "      <th>2</th>\n",
       "      <td>finish</td>\n",
       "      <td>0 days 11:11:01</td>\n",
       "      <td>0 days 11:12:51</td>\n",
       "      <td>NaT</td>\n",
       "      <td>NaT</td>\n",
       "      <td>NaT</td>\n",
       "    </tr>\n",
       "    <tr>\n",
       "      <th>3</th>\n",
       "      <td>finish</td>\n",
       "      <td>0 days 03:06:04</td>\n",
       "      <td>0 days 03:11:28</td>\n",
       "      <td>0 days 08:42:35</td>\n",
       "      <td>0 days 08:43:56</td>\n",
       "      <td>NaT</td>\n",
       "    </tr>\n",
       "    <tr>\n",
       "      <th>4</th>\n",
       "      <td>finish</td>\n",
       "      <td>0 days 01:26:33</td>\n",
       "      <td>0 days 02:14:51</td>\n",
       "      <td>NaT</td>\n",
       "      <td>NaT</td>\n",
       "      <td>NaT</td>\n",
       "    </tr>\n",
       "  </tbody>\n",
       "</table>\n",
       "</div>"
      ],
      "text/plain": [
       "event_type education tutorial_start_delta tutorial_finish_delta  \\\n",
       "0           no start                  NaT                   NaT   \n",
       "1             finish      0 days 13:40:15       0 days 13:42:43   \n",
       "2             finish      0 days 11:11:01       0 days 11:12:51   \n",
       "3             finish      0 days 03:06:04       0 days 03:11:28   \n",
       "4             finish      0 days 01:26:33       0 days 02:14:51   \n",
       "\n",
       "event_type level_choice_delta pack_choice_delta purchase_delta  \n",
       "0                         NaT               NaT            NaT  \n",
       "1                         NaT               NaT            NaT  \n",
       "2                         NaT               NaT            NaT  \n",
       "3             0 days 08:42:35   0 days 08:43:56            NaT  \n",
       "4                         NaT               NaT            NaT  "
      ]
     },
     "execution_count": 340,
     "metadata": {},
     "output_type": "execute_result"
    }
   ],
   "source": [
    "user_event_purchase_education = user_event_purchase.copy()\n",
    "user_event_purchase_education = user_event_purchase_education.drop(\n",
    "    ['registration', 'tutorial_start', 'tutorial_finish', 'level_choice', 'pack_choice', 'purchase', 'user_id'], axis=1)\n",
    "user_event_purchase_education.head()"
   ]
  },
  {
   "cell_type": "markdown",
   "metadata": {},
   "source": [
    "Создадим сводную таблицу по видам прохождения обучения:"
   ]
  },
  {
   "cell_type": "code",
   "execution_count": 341,
   "metadata": {},
   "outputs": [
    {
     "data": {
      "text/html": [
       "<div>\n",
       "<style scoped>\n",
       "    .dataframe tbody tr th:only-of-type {\n",
       "        vertical-align: middle;\n",
       "    }\n",
       "\n",
       "    .dataframe tbody tr th {\n",
       "        vertical-align: top;\n",
       "    }\n",
       "\n",
       "    .dataframe thead th {\n",
       "        text-align: right;\n",
       "    }\n",
       "</style>\n",
       "<table border=\"1\" class=\"dataframe\">\n",
       "  <thead>\n",
       "    <tr style=\"text-align: right;\">\n",
       "      <th>event_type</th>\n",
       "      <th>tutorial_start_delta</th>\n",
       "      <th>tutorial_finish_delta</th>\n",
       "      <th>level_choice_delta</th>\n",
       "      <th>pack_choice_delta</th>\n",
       "      <th>purchase_delta</th>\n",
       "    </tr>\n",
       "    <tr>\n",
       "      <th>education</th>\n",
       "      <th></th>\n",
       "      <th></th>\n",
       "      <th></th>\n",
       "      <th></th>\n",
       "      <th></th>\n",
       "    </tr>\n",
       "  </thead>\n",
       "  <tbody>\n",
       "    <tr>\n",
       "      <th>finish</th>\n",
       "      <td>0 days 04:31:04.938146341</td>\n",
       "      <td>0 days 04:43:18.761268292</td>\n",
       "      <td>0 days 07:05:36.854819357</td>\n",
       "      <td>0 days 07:10:35.660162287</td>\n",
       "      <td>4 days 00:30:03.247408431</td>\n",
       "    </tr>\n",
       "    <tr>\n",
       "      <th>no finish</th>\n",
       "      <td>0 days 05:25:02.892412935</td>\n",
       "      <td>NaT</td>\n",
       "      <td>0 days 08:12:57.551816958</td>\n",
       "      <td>0 days 08:22:32.392197125</td>\n",
       "      <td>4 days 05:32:53.213740458</td>\n",
       "    </tr>\n",
       "    <tr>\n",
       "      <th>no start</th>\n",
       "      <td>NaT</td>\n",
       "      <td>NaT</td>\n",
       "      <td>0 days 05:15:33.122448979</td>\n",
       "      <td>0 days 05:07:16.175675675</td>\n",
       "      <td>4 days 09:06:01.909090909</td>\n",
       "    </tr>\n",
       "  </tbody>\n",
       "</table>\n",
       "</div>"
      ],
      "text/plain": [
       "event_type      tutorial_start_delta     tutorial_finish_delta  \\\n",
       "education                                                        \n",
       "finish     0 days 04:31:04.938146341 0 days 04:43:18.761268292   \n",
       "no finish  0 days 05:25:02.892412935                       NaT   \n",
       "no start                         NaT                       NaT   \n",
       "\n",
       "event_type        level_choice_delta         pack_choice_delta  \\\n",
       "education                                                        \n",
       "finish     0 days 07:05:36.854819357 0 days 07:10:35.660162287   \n",
       "no finish  0 days 08:12:57.551816958 0 days 08:22:32.392197125   \n",
       "no start   0 days 05:15:33.122448979 0 days 05:07:16.175675675   \n",
       "\n",
       "event_type            purchase_delta  \n",
       "education                             \n",
       "finish     4 days 00:30:03.247408431  \n",
       "no finish  4 days 05:32:53.213740458  \n",
       "no start   4 days 09:06:01.909090909  "
      ]
     },
     "metadata": {},
     "output_type": "display_data"
    }
   ],
   "source": [
    "user_event_purchase_education = user_event_purchase_education.groupby(['education']).mean().round(2)\n",
    "display(user_event_purchase_education)"
   ]
  },
  {
   "cell_type": "markdown",
   "metadata": {},
   "source": [
    "Преобразуем тип данных в сводной таблице из временного в числовой. За единицу измерения интервалов выберем час."
   ]
  },
  {
   "cell_type": "code",
   "execution_count": 342,
   "metadata": {},
   "outputs": [
    {
     "data": {
      "text/html": [
       "<div>\n",
       "<style scoped>\n",
       "    .dataframe tbody tr th:only-of-type {\n",
       "        vertical-align: middle;\n",
       "    }\n",
       "\n",
       "    .dataframe tbody tr th {\n",
       "        vertical-align: top;\n",
       "    }\n",
       "\n",
       "    .dataframe thead th {\n",
       "        text-align: right;\n",
       "    }\n",
       "</style>\n",
       "<table border=\"1\" class=\"dataframe\">\n",
       "  <thead>\n",
       "    <tr style=\"text-align: right;\">\n",
       "      <th>event_type</th>\n",
       "      <th>tutorial_start_delta</th>\n",
       "      <th>tutorial_finish_delta</th>\n",
       "      <th>level_choice_delta</th>\n",
       "      <th>pack_choice_delta</th>\n",
       "      <th>purchase_delta</th>\n",
       "      <th>education</th>\n",
       "    </tr>\n",
       "    <tr>\n",
       "      <th>education</th>\n",
       "      <th></th>\n",
       "      <th></th>\n",
       "      <th></th>\n",
       "      <th></th>\n",
       "      <th></th>\n",
       "      <th></th>\n",
       "    </tr>\n",
       "  </thead>\n",
       "  <tbody>\n",
       "    <tr>\n",
       "      <th>finish</th>\n",
       "      <td>4.52</td>\n",
       "      <td>4.72</td>\n",
       "      <td>7.09</td>\n",
       "      <td>7.18</td>\n",
       "      <td>96.50</td>\n",
       "      <td>finish</td>\n",
       "    </tr>\n",
       "    <tr>\n",
       "      <th>no finish</th>\n",
       "      <td>5.42</td>\n",
       "      <td>0.00</td>\n",
       "      <td>8.22</td>\n",
       "      <td>8.38</td>\n",
       "      <td>101.55</td>\n",
       "      <td>no finish</td>\n",
       "    </tr>\n",
       "    <tr>\n",
       "      <th>no start</th>\n",
       "      <td>0.00</td>\n",
       "      <td>0.00</td>\n",
       "      <td>5.26</td>\n",
       "      <td>5.12</td>\n",
       "      <td>105.10</td>\n",
       "      <td>no start</td>\n",
       "    </tr>\n",
       "  </tbody>\n",
       "</table>\n",
       "</div>"
      ],
      "text/plain": [
       "event_type  tutorial_start_delta  tutorial_finish_delta  level_choice_delta  \\\n",
       "education                                                                     \n",
       "finish                      4.52                   4.72                7.09   \n",
       "no finish                   5.42                   0.00                8.22   \n",
       "no start                    0.00                   0.00                5.26   \n",
       "\n",
       "event_type  pack_choice_delta  purchase_delta  education  \n",
       "education                                                 \n",
       "finish                   7.18           96.50     finish  \n",
       "no finish                8.38          101.55  no finish  \n",
       "no start                 5.12          105.10   no start  "
      ]
     },
     "execution_count": 342,
     "metadata": {},
     "output_type": "execute_result"
    }
   ],
   "source": [
    "user_event_purchase_education = round(user_event_purchase_education/pd.Timedelta('1 hour'), 2)\n",
    "user_event_purchase_education = user_event_purchase_education.fillna(0)\n",
    "user_event_purchase_education['education'] = user_event_purchase_education.index\n",
    "user_event_purchase_education"
   ]
  },
  {
   "cell_type": "markdown",
   "metadata": {},
   "source": [
    "Отфильтруем пользователей, которые начали учиться, но не закончили:"
   ]
  },
  {
   "cell_type": "code",
   "execution_count": 343,
   "metadata": {},
   "outputs": [
    {
     "data": {
      "text/html": [
       "<div>\n",
       "<style scoped>\n",
       "    .dataframe tbody tr th:only-of-type {\n",
       "        vertical-align: middle;\n",
       "    }\n",
       "\n",
       "    .dataframe tbody tr th {\n",
       "        vertical-align: top;\n",
       "    }\n",
       "\n",
       "    .dataframe thead th {\n",
       "        text-align: right;\n",
       "    }\n",
       "</style>\n",
       "<table border=\"1\" class=\"dataframe\">\n",
       "  <thead>\n",
       "    <tr style=\"text-align: right;\">\n",
       "      <th>event_type</th>\n",
       "      <th>tutorial_start_delta</th>\n",
       "      <th>tutorial_finish_delta</th>\n",
       "      <th>level_choice_delta</th>\n",
       "      <th>pack_choice_delta</th>\n",
       "      <th>purchase_delta</th>\n",
       "      <th>education</th>\n",
       "    </tr>\n",
       "    <tr>\n",
       "      <th>education</th>\n",
       "      <th></th>\n",
       "      <th></th>\n",
       "      <th></th>\n",
       "      <th></th>\n",
       "      <th></th>\n",
       "      <th></th>\n",
       "    </tr>\n",
       "  </thead>\n",
       "  <tbody>\n",
       "    <tr>\n",
       "      <th>finish</th>\n",
       "      <td>4.52</td>\n",
       "      <td>4.72</td>\n",
       "      <td>7.09</td>\n",
       "      <td>7.18</td>\n",
       "      <td>96.5</td>\n",
       "      <td>finish</td>\n",
       "    </tr>\n",
       "    <tr>\n",
       "      <th>no start</th>\n",
       "      <td>0.00</td>\n",
       "      <td>0.00</td>\n",
       "      <td>5.26</td>\n",
       "      <td>5.12</td>\n",
       "      <td>105.1</td>\n",
       "      <td>no start</td>\n",
       "    </tr>\n",
       "  </tbody>\n",
       "</table>\n",
       "</div>"
      ],
      "text/plain": [
       "event_type  tutorial_start_delta  tutorial_finish_delta  level_choice_delta  \\\n",
       "education                                                                     \n",
       "finish                      4.52                   4.72                7.09   \n",
       "no start                    0.00                   0.00                5.26   \n",
       "\n",
       "event_type  pack_choice_delta  purchase_delta education  \n",
       "education                                                \n",
       "finish                   7.18            96.5    finish  \n",
       "no start                 5.12           105.1  no start  "
      ]
     },
     "execution_count": 343,
     "metadata": {},
     "output_type": "execute_result"
    }
   ],
   "source": [
    "mask = user_event_purchase_education['education'] != 'no finish'\n",
    "user_event_purchase_education = user_event_purchase_education[mask]\n",
    "user_event_purchase_education"
   ]
  },
  {
   "cell_type": "markdown",
   "metadata": {},
   "source": [
    "Теперь перейдем к построению диаграмм:"
   ]
  },
  {
   "cell_type": "code",
   "execution_count": 344,
   "metadata": {},
   "outputs": [
    {
     "data": {
      "image/png": "[encoded data removed]",
      "text/plain": [
       "<Figure size 576x288 with 1 Axes>"
      ]
     },
     "metadata": {
      "needs_background": "light"
     },
     "output_type": "display_data"
    }
   ],
   "source": [
    "fig = plt.figure(figsize=(8,4))\n",
    "ax = fig.add_axes([0,0,1,1])\n",
    "spl = ax.bar( x = user_event_purchase_education['education'], height =user_event_purchase_education['level_choice_delta'])\n",
    "\n",
    "ax.set_title('Среднее время от регистрации до выбора уровня сложности')\n",
    "ax.set_ylabel('Часы')\n",
    "\n",
    "for index,data in enumerate(user_event_purchase_education['level_choice_delta']):\n",
    "    plt.text(x=index , y =data , s=f\"{data}\" , fontdict=dict(fontsize=10), ha=\"center\", va=\"bottom\")\n",
    "\n",
    "plt.show()"
   ]
  },
  {
   "cell_type": "code",
   "execution_count": 345,
   "metadata": {},
   "outputs": [
    {
     "data": {
      "image/png": "[encoded data removed]",
      "text/plain": [
       "<Figure size 576x288 with 1 Axes>"
      ]
     },
     "metadata": {
      "needs_background": "light"
     },
     "output_type": "display_data"
    }
   ],
   "source": [
    "fig = plt.figure(figsize=(8,4))\n",
    "ax = fig.add_axes([0,0,1,1])\n",
    "spl = ax.bar( x = user_event_purchase_education['education'], height =user_event_purchase_education['pack_choice_delta'])\n",
    "\n",
    "ax.set_title('Среднее время от регистрации до выбора пакетов вопросов')\n",
    "ax.set_ylabel('Часы')\n",
    "\n",
    "for index,data in enumerate(user_event_purchase_education['pack_choice_delta']):\n",
    "    plt.text(x=index , y =data , s=f\"{data}\" , fontdict=dict(fontsize=10), ha=\"center\", va=\"bottom\")\n",
    "\n",
    "plt.show()"
   ]
  },
  {
   "cell_type": "code",
   "execution_count": 346,
   "metadata": {},
   "outputs": [
    {
     "data": {
      "image/png": "[encoded data removed]",
      "text/plain": [
       "<Figure size 576x288 with 1 Axes>"
      ]
     },
     "metadata": {
      "needs_background": "light"
     },
     "output_type": "display_data"
    }
   ],
   "source": [
    "\n",
    "fig = plt.figure(figsize=(8,4))\n",
    "ax = fig.add_axes([0,0,1,1])\n",
    "spl = ax.bar( x = user_event_purchase_education['education'], height =user_event_purchase_education['purchase_delta'])\n",
    "\n",
    "ax.set_title('Среднее время прошедшее от регистрации до покупки')\n",
    "ax.set_ylabel('Часы')\n",
    "\n",
    "for index,data in enumerate(user_event_purchase_education['purchase_delta']):\n",
    "    plt.text(x=index , y =data , s=f\"{data}\" , fontdict=dict(fontsize=10), ha=\"center\", va=\"bottom\")\n",
    "\n",
    "plt.show()"
   ]
  },
  {
   "cell_type": "markdown",
   "metadata": {},
   "source": [
    "### Вывод по 1-й гипотезе: \n",
    "У пользователей, не проходивших обучение, среднее время от регистрации до выбора уровня сложности и пакетов вопросов меньше, чем у пользователей, проходивших обучение. Это, видимо, связано с тем, что пользователи потратили время на прохождение обучения. Но среднее время от регистрации до покупки у обученных пользователей (96,5 часов) меньше, чем у не обученных (105,1 часов). Разница составляет 8,6 часов. \n"
   ]
  },
  {
   "cell_type": "markdown",
   "metadata": {},
   "source": [
    "## Переходим к проверке 2-й гипотезы:\n",
    "#### Проверить, существует ли зависимость между вероятностью оплаты вопросов и количеством обучений, которые начинал или завершал пользователь. "
   ]
  },
  {
   "cell_type": "markdown",
   "metadata": {},
   "source": [
    "Создадим сводную таблицу по количеству этапов у пользователей:"
   ]
  },
  {
   "cell_type": "code",
   "execution_count": 347,
   "metadata": {},
   "outputs": [
    {
     "data": {
      "text/html": [
       "<div>\n",
       "<style scoped>\n",
       "    .dataframe tbody tr th:only-of-type {\n",
       "        vertical-align: middle;\n",
       "    }\n",
       "\n",
       "    .dataframe tbody tr th {\n",
       "        vertical-align: top;\n",
       "    }\n",
       "\n",
       "    .dataframe thead th {\n",
       "        text-align: right;\n",
       "    }\n",
       "</style>\n",
       "<table border=\"1\" class=\"dataframe\">\n",
       "  <thead>\n",
       "    <tr style=\"text-align: right;\">\n",
       "      <th>event_type</th>\n",
       "      <th>user_id</th>\n",
       "      <th>level_choice</th>\n",
       "      <th>pack_choice</th>\n",
       "      <th>purchase</th>\n",
       "      <th>registration</th>\n",
       "      <th>tutorial_finish</th>\n",
       "      <th>tutorial_start</th>\n",
       "    </tr>\n",
       "  </thead>\n",
       "  <tbody>\n",
       "    <tr>\n",
       "      <th>0</th>\n",
       "      <td>27832</td>\n",
       "      <td>0.0</td>\n",
       "      <td>0.0</td>\n",
       "      <td>0.0</td>\n",
       "      <td>1.0</td>\n",
       "      <td>0.0</td>\n",
       "      <td>0.0</td>\n",
       "    </tr>\n",
       "    <tr>\n",
       "      <th>1</th>\n",
       "      <td>27833</td>\n",
       "      <td>0.0</td>\n",
       "      <td>0.0</td>\n",
       "      <td>0.0</td>\n",
       "      <td>1.0</td>\n",
       "      <td>1.0</td>\n",
       "      <td>1.0</td>\n",
       "    </tr>\n",
       "    <tr>\n",
       "      <th>2</th>\n",
       "      <td>27834</td>\n",
       "      <td>0.0</td>\n",
       "      <td>0.0</td>\n",
       "      <td>0.0</td>\n",
       "      <td>1.0</td>\n",
       "      <td>1.0</td>\n",
       "      <td>1.0</td>\n",
       "    </tr>\n",
       "    <tr>\n",
       "      <th>3</th>\n",
       "      <td>27835</td>\n",
       "      <td>1.0</td>\n",
       "      <td>1.0</td>\n",
       "      <td>0.0</td>\n",
       "      <td>1.0</td>\n",
       "      <td>1.0</td>\n",
       "      <td>1.0</td>\n",
       "    </tr>\n",
       "    <tr>\n",
       "      <th>4</th>\n",
       "      <td>27836</td>\n",
       "      <td>0.0</td>\n",
       "      <td>0.0</td>\n",
       "      <td>0.0</td>\n",
       "      <td>1.0</td>\n",
       "      <td>1.0</td>\n",
       "      <td>2.0</td>\n",
       "    </tr>\n",
       "  </tbody>\n",
       "</table>\n",
       "</div>"
      ],
      "text/plain": [
       "event_type  user_id  level_choice  pack_choice  purchase  registration  \\\n",
       "0             27832           0.0          0.0       0.0           1.0   \n",
       "1             27833           0.0          0.0       0.0           1.0   \n",
       "2             27834           0.0          0.0       0.0           1.0   \n",
       "3             27835           1.0          1.0       0.0           1.0   \n",
       "4             27836           0.0          0.0       0.0           1.0   \n",
       "\n",
       "event_type  tutorial_finish  tutorial_start  \n",
       "0                       0.0             0.0  \n",
       "1                       1.0             1.0  \n",
       "2                       1.0             1.0  \n",
       "3                       1.0             1.0  \n",
       "4                       1.0             2.0  "
      ]
     },
     "execution_count": 347,
     "metadata": {},
     "output_type": "execute_result"
    }
   ],
   "source": [
    "user_pivot = event_purchase_df.pivot_table(\n",
    "    values = 'event_datetime',\n",
    "    index = 'user_id',\n",
    "    columns = 'event_type',\n",
    "    aggfunc= 'count'\n",
    ").reset_index()\n",
    "user_pivot = user_pivot.fillna(0)\n",
    "user_pivot.head()"
   ]
  },
  {
   "cell_type": "markdown",
   "metadata": {},
   "source": [
    "Создадим сводную таблицу по количеству обучений, которые были начаты:"
   ]
  },
  {
   "cell_type": "code",
   "execution_count": 348,
   "metadata": {},
   "outputs": [
    {
     "data": {
      "text/html": [
       "<div>\n",
       "<style scoped>\n",
       "    .dataframe tbody tr th:only-of-type {\n",
       "        vertical-align: middle;\n",
       "    }\n",
       "\n",
       "    .dataframe tbody tr th {\n",
       "        vertical-align: top;\n",
       "    }\n",
       "\n",
       "    .dataframe thead tr th {\n",
       "        text-align: left;\n",
       "    }\n",
       "</style>\n",
       "<table border=\"1\" class=\"dataframe\">\n",
       "  <thead>\n",
       "    <tr>\n",
       "      <th>event_type</th>\n",
       "      <th>tutorial_start</th>\n",
       "      <th>user_id</th>\n",
       "      <th>purchase</th>\n",
       "      <th>percent</th>\n",
       "    </tr>\n",
       "    <tr>\n",
       "      <th></th>\n",
       "      <th></th>\n",
       "      <th>count</th>\n",
       "      <th>sum</th>\n",
       "      <th></th>\n",
       "    </tr>\n",
       "  </thead>\n",
       "  <tbody>\n",
       "    <tr>\n",
       "      <th>0</th>\n",
       "      <td>0.0</td>\n",
       "      <td>8068</td>\n",
       "      <td>22.0</td>\n",
       "      <td>0.27</td>\n",
       "    </tr>\n",
       "    <tr>\n",
       "      <th>1</th>\n",
       "      <td>1.0</td>\n",
       "      <td>9103</td>\n",
       "      <td>1207.0</td>\n",
       "      <td>13.26</td>\n",
       "    </tr>\n",
       "    <tr>\n",
       "      <th>2</th>\n",
       "      <td>2.0</td>\n",
       "      <td>1589</td>\n",
       "      <td>218.0</td>\n",
       "      <td>13.72</td>\n",
       "    </tr>\n",
       "    <tr>\n",
       "      <th>3</th>\n",
       "      <td>3.0</td>\n",
       "      <td>427</td>\n",
       "      <td>51.0</td>\n",
       "      <td>11.94</td>\n",
       "    </tr>\n",
       "    <tr>\n",
       "      <th>4</th>\n",
       "      <td>4.0</td>\n",
       "      <td>221</td>\n",
       "      <td>30.0</td>\n",
       "      <td>13.57</td>\n",
       "    </tr>\n",
       "    <tr>\n",
       "      <th>5</th>\n",
       "      <td>5.0</td>\n",
       "      <td>109</td>\n",
       "      <td>16.0</td>\n",
       "      <td>14.68</td>\n",
       "    </tr>\n",
       "    <tr>\n",
       "      <th>6</th>\n",
       "      <td>6.0</td>\n",
       "      <td>116</td>\n",
       "      <td>14.0</td>\n",
       "      <td>12.07</td>\n",
       "    </tr>\n",
       "    <tr>\n",
       "      <th>7</th>\n",
       "      <td>7.0</td>\n",
       "      <td>94</td>\n",
       "      <td>12.0</td>\n",
       "      <td>12.77</td>\n",
       "    </tr>\n",
       "    <tr>\n",
       "      <th>8</th>\n",
       "      <td>8.0</td>\n",
       "      <td>86</td>\n",
       "      <td>13.0</td>\n",
       "      <td>15.12</td>\n",
       "    </tr>\n",
       "    <tr>\n",
       "      <th>9</th>\n",
       "      <td>9.0</td>\n",
       "      <td>113</td>\n",
       "      <td>17.0</td>\n",
       "      <td>15.04</td>\n",
       "    </tr>\n",
       "  </tbody>\n",
       "</table>\n",
       "</div>"
      ],
      "text/plain": [
       "event_type tutorial_start user_id purchase percent\n",
       "                            count      sum        \n",
       "0                     0.0    8068     22.0    0.27\n",
       "1                     1.0    9103   1207.0   13.26\n",
       "2                     2.0    1589    218.0   13.72\n",
       "3                     3.0     427     51.0   11.94\n",
       "4                     4.0     221     30.0   13.57\n",
       "5                     5.0     109     16.0   14.68\n",
       "6                     6.0     116     14.0   12.07\n",
       "7                     7.0      94     12.0   12.77\n",
       "8                     8.0      86     13.0   15.12\n",
       "9                     9.0     113     17.0   15.04"
      ]
     },
     "execution_count": 348,
     "metadata": {},
     "output_type": "execute_result"
    }
   ],
   "source": [
    "user_pivot_start = user_pivot.groupby('tutorial_start').agg({'user_id':['count'],'purchase':['sum']}).reset_index()\n",
    "user_pivot_start['percent'] = (user_pivot_start['purchase']['sum'] * 100/user_pivot_start['user_id']['count']).round(2)\n",
    "display(user_pivot_start)"
   ]
  },
  {
   "cell_type": "code",
   "execution_count": 349,
   "metadata": {},
   "outputs": [
    {
     "data": {
      "image/png": "[encoded data removed]",
      "text/plain": [
       "<Figure size 936x288 with 1 Axes>"
      ]
     },
     "metadata": {
      "needs_background": "light"
     },
     "output_type": "display_data"
    }
   ],
   "source": [
    "fig = plt.figure(figsize=(13, 4))\n",
    "axes = fig.add_axes([0, 0, 1, 1])\n",
    "axes.bar(x = user_pivot_start['tutorial_start'], height = user_pivot_start['percent'])\n",
    "axes.set_xlabel('Количество начатых повторных обучений')\n",
    "axes.set_ylabel('Конверсия, %')\n",
    "axes.set_xticks = user_pivot_start['percent']\n",
    "axes.set_title('Конверсия пользователей в покупатели согласно количеству начатых обучений')\n",
    "\n",
    "for index,data in enumerate(user_pivot_start['percent']):\n",
    "    plt.text(x=index , y=data , s=f\"{data}%\" , fontdict=dict(fontsize=10), ha=\"center\", va=\"bottom\")\n",
    "\n",
    "plt.show()"
   ]
  },
  {
   "cell_type": "code",
   "execution_count": 350,
   "metadata": {},
   "outputs": [
    {
     "data": {
      "text/html": [
       "<div>\n",
       "<style scoped>\n",
       "    .dataframe tbody tr th:only-of-type {\n",
       "        vertical-align: middle;\n",
       "    }\n",
       "\n",
       "    .dataframe tbody tr th {\n",
       "        vertical-align: top;\n",
       "    }\n",
       "\n",
       "    .dataframe thead tr th {\n",
       "        text-align: left;\n",
       "    }\n",
       "</style>\n",
       "<table border=\"1\" class=\"dataframe\">\n",
       "  <thead>\n",
       "    <tr>\n",
       "      <th>event_type</th>\n",
       "      <th>tutorial_finish</th>\n",
       "      <th>user_id</th>\n",
       "      <th>purchase</th>\n",
       "      <th>percent</th>\n",
       "    </tr>\n",
       "    <tr>\n",
       "      <th></th>\n",
       "      <th></th>\n",
       "      <th>count</th>\n",
       "      <th>sum</th>\n",
       "      <th></th>\n",
       "    </tr>\n",
       "  </thead>\n",
       "  <tbody>\n",
       "    <tr>\n",
       "      <th>0</th>\n",
       "      <td>0.0</td>\n",
       "      <td>9676</td>\n",
       "      <td>153.0</td>\n",
       "      <td>1.58</td>\n",
       "    </tr>\n",
       "    <tr>\n",
       "      <th>1</th>\n",
       "      <td>1.0</td>\n",
       "      <td>8015</td>\n",
       "      <td>1143.0</td>\n",
       "      <td>14.26</td>\n",
       "    </tr>\n",
       "    <tr>\n",
       "      <th>2</th>\n",
       "      <td>2.0</td>\n",
       "      <td>1321</td>\n",
       "      <td>182.0</td>\n",
       "      <td>13.78</td>\n",
       "    </tr>\n",
       "    <tr>\n",
       "      <th>3</th>\n",
       "      <td>3.0</td>\n",
       "      <td>345</td>\n",
       "      <td>44.0</td>\n",
       "      <td>12.75</td>\n",
       "    </tr>\n",
       "    <tr>\n",
       "      <th>4</th>\n",
       "      <td>4.0</td>\n",
       "      <td>178</td>\n",
       "      <td>19.0</td>\n",
       "      <td>10.67</td>\n",
       "    </tr>\n",
       "    <tr>\n",
       "      <th>5</th>\n",
       "      <td>5.0</td>\n",
       "      <td>117</td>\n",
       "      <td>19.0</td>\n",
       "      <td>16.24</td>\n",
       "    </tr>\n",
       "    <tr>\n",
       "      <th>6</th>\n",
       "      <td>6.0</td>\n",
       "      <td>101</td>\n",
       "      <td>15.0</td>\n",
       "      <td>14.85</td>\n",
       "    </tr>\n",
       "    <tr>\n",
       "      <th>7</th>\n",
       "      <td>7.0</td>\n",
       "      <td>97</td>\n",
       "      <td>15.0</td>\n",
       "      <td>15.46</td>\n",
       "    </tr>\n",
       "    <tr>\n",
       "      <th>8</th>\n",
       "      <td>8.0</td>\n",
       "      <td>54</td>\n",
       "      <td>6.0</td>\n",
       "      <td>11.11</td>\n",
       "    </tr>\n",
       "    <tr>\n",
       "      <th>9</th>\n",
       "      <td>9.0</td>\n",
       "      <td>22</td>\n",
       "      <td>4.0</td>\n",
       "      <td>18.18</td>\n",
       "    </tr>\n",
       "  </tbody>\n",
       "</table>\n",
       "</div>"
      ],
      "text/plain": [
       "event_type tutorial_finish user_id purchase percent\n",
       "                             count      sum        \n",
       "0                      0.0    9676    153.0    1.58\n",
       "1                      1.0    8015   1143.0   14.26\n",
       "2                      2.0    1321    182.0   13.78\n",
       "3                      3.0     345     44.0   12.75\n",
       "4                      4.0     178     19.0   10.67\n",
       "5                      5.0     117     19.0   16.24\n",
       "6                      6.0     101     15.0   14.85\n",
       "7                      7.0      97     15.0   15.46\n",
       "8                      8.0      54      6.0   11.11\n",
       "9                      9.0      22      4.0   18.18"
      ]
     },
     "metadata": {},
     "output_type": "display_data"
    },
    {
     "data": {
      "image/png": "[encoded data removed]",
      "text/plain": [
       "<Figure size 936x288 with 1 Axes>"
      ]
     },
     "metadata": {
      "needs_background": "light"
     },
     "output_type": "display_data"
    }
   ],
   "source": [
    "user_pivot_finish = user_pivot.groupby('tutorial_finish').agg({'user_id':['count'],'purchase':['sum']}).reset_index()\n",
    "user_pivot_finish['percent'] = (user_pivot_finish['purchase']['sum'] * 100/user_pivot_finish['user_id']['count']).round(2)\n",
    "display(user_pivot_finish)\n",
    "fig = plt.figure(figsize=(13, 4))\n",
    "axes = fig.add_axes([0, 0, 1, 1])\n",
    "axes.bar(x = user_pivot_finish['tutorial_finish'], height = user_pivot_finish['percent'])\n",
    "axes.set_xlabel('Количество пройденных повторных обучений')\n",
    "axes.set_ylabel('Конверсия, %')\n",
    "axes.set_xticks = user_pivot_finish['percent']\n",
    "axes.set_title('Конверсия пользователей в покупатели согласно количеству пройденных обучений')\n",
    "\n",
    "for index,data in enumerate(user_pivot_finish['percent']):\n",
    "    plt.text(x=index , y=data , s=f\"{data}%\" , fontdict=dict(fontsize=10), ha=\"center\", va=\"bottom\")\n",
    "\n",
    "plt.show()"
   ]
  },
  {
   "cell_type": "markdown",
   "metadata": {},
   "source": [
    "## Вывод по 2-й гипотезе:\n",
    "#### Из диаграмм видно, что конверсия пользователей, прошедших и начавших обучение колеблется примерно на одном уровне. Для начатых обучений конверсия находится в диапазоне от 12% до 15%, в то время как конверсия пользователей, не начинавших обучение, составляет 0,27%. Можно утверждать, что успешное обучение само по себе влияет на оплату и не имеет значения то, каким этапом оно шло."
   ]
  },
  {
   "cell_type": "markdown",
   "metadata": {},
   "source": [
    "## Переходим к проверке 3-й гипотезы:\n",
    "#### Выяснить, как часто пользователи начинают обучение после выбора уровня сложности. (Это позволит оценить прозрачность процесса взаимодействия с игрой: если пользователи после выбора уровня сложности обращаются к обучению, значит, работа с приложением непонятна.)"
   ]
  },
  {
   "cell_type": "markdown",
   "metadata": {},
   "source": [
    "Создадим таблицу с датами выбора уровня сложности:"
   ]
  },
  {
   "cell_type": "code",
   "execution_count": null,
   "metadata": {},
   "outputs": [
    {
     "data": {
      "text/html": [
       "<div>\n",
       "<style scoped>\n",
       "    .dataframe tbody tr th:only-of-type {\n",
       "        vertical-align: middle;\n",
       "    }\n",
       "\n",
       "    .dataframe tbody tr th {\n",
       "        vertical-align: top;\n",
       "    }\n",
       "\n",
       "    .dataframe thead th {\n",
       "        text-align: right;\n",
       "    }\n",
       "</style>\n",
       "<table border=\"1\" class=\"dataframe\">\n",
       "  <thead>\n",
       "    <tr style=\"text-align: right;\">\n",
       "      <th></th>\n",
       "      <th>user_id</th>\n",
       "      <th>data_level_choice</th>\n",
       "    </tr>\n",
       "  </thead>\n",
       "  <tbody>\n",
       "    <tr>\n",
       "      <th>51424</th>\n",
       "      <td>27835</td>\n",
       "      <td>2018-01-01 20:37:22</td>\n",
       "    </tr>\n",
       "    <tr>\n",
       "      <th>51428</th>\n",
       "      <td>27839</td>\n",
       "      <td>2018-01-01 22:37:50</td>\n",
       "    </tr>\n",
       "    <tr>\n",
       "      <th>51441</th>\n",
       "      <td>27840</td>\n",
       "      <td>2018-01-02 05:18:42</td>\n",
       "    </tr>\n",
       "    <tr>\n",
       "      <th>51443</th>\n",
       "      <td>27845</td>\n",
       "      <td>2018-01-02 06:19:18</td>\n",
       "    </tr>\n",
       "    <tr>\n",
       "      <th>51450</th>\n",
       "      <td>27842</td>\n",
       "      <td>2018-01-02 08:46:03</td>\n",
       "    </tr>\n",
       "  </tbody>\n",
       "</table>\n",
       "</div>"
      ],
      "text/plain": [
       "       user_id   data_level_choice\n",
       "51424    27835 2018-01-01 20:37:22\n",
       "51428    27839 2018-01-01 22:37:50\n",
       "51441    27840 2018-01-02 05:18:42\n",
       "51443    27845 2018-01-02 06:19:18\n",
       "51450    27842 2018-01-02 08:46:03"
      ]
     },
     "execution_count": 180,
     "metadata": {},
     "output_type": "execute_result"
    }
   ],
   "source": [
    "events_df['data_level_choice'] = events_df[events_df['event_type'] =='level_choice']['event_datetime']\n",
    "event_data_level = events_df.copy()\n",
    "event_data_level = event_data_level.drop(['event_id', 'event_type', 'selected_level', 'event_datetime', 'tutorial_id'], axis=1)\n",
    "event_data_level = event_data_level.dropna(subset='data_level_choice',axis=0)\n",
    "event_data_level.head()"
   ]
  },
  {
   "cell_type": "markdown",
   "metadata": {},
   "source": [
    "Создадим таблицу с датами начала обучения:"
   ]
  },
  {
   "cell_type": "code",
   "execution_count": null,
   "metadata": {},
   "outputs": [
    {
     "data": {
      "text/html": [
       "<div>\n",
       "<style scoped>\n",
       "    .dataframe tbody tr th:only-of-type {\n",
       "        vertical-align: middle;\n",
       "    }\n",
       "\n",
       "    .dataframe tbody tr th {\n",
       "        vertical-align: top;\n",
       "    }\n",
       "\n",
       "    .dataframe thead th {\n",
       "        text-align: right;\n",
       "    }\n",
       "</style>\n",
       "<table border=\"1\" class=\"dataframe\">\n",
       "  <thead>\n",
       "    <tr style=\"text-align: right;\">\n",
       "      <th></th>\n",
       "      <th>user_id</th>\n",
       "      <th>data_tutorial_start</th>\n",
       "    </tr>\n",
       "  </thead>\n",
       "  <tbody>\n",
       "    <tr>\n",
       "      <th>51412</th>\n",
       "      <td>27836</td>\n",
       "      <td>2018-01-01 14:54:40</td>\n",
       "    </tr>\n",
       "    <tr>\n",
       "      <th>51413</th>\n",
       "      <td>27835</td>\n",
       "      <td>2018-01-01 15:00:51</td>\n",
       "    </tr>\n",
       "    <tr>\n",
       "      <th>51415</th>\n",
       "      <td>27836</td>\n",
       "      <td>2018-01-01 15:40:43</td>\n",
       "    </tr>\n",
       "    <tr>\n",
       "      <th>51417</th>\n",
       "      <td>27833</td>\n",
       "      <td>2018-01-01 17:47:40</td>\n",
       "    </tr>\n",
       "    <tr>\n",
       "      <th>51420</th>\n",
       "      <td>27839</td>\n",
       "      <td>2018-01-01 19:11:36</td>\n",
       "    </tr>\n",
       "  </tbody>\n",
       "</table>\n",
       "</div>"
      ],
      "text/plain": [
       "       user_id data_tutorial_start\n",
       "51412    27836 2018-01-01 14:54:40\n",
       "51413    27835 2018-01-01 15:00:51\n",
       "51415    27836 2018-01-01 15:40:43\n",
       "51417    27833 2018-01-01 17:47:40\n",
       "51420    27839 2018-01-01 19:11:36"
      ]
     },
     "execution_count": 183,
     "metadata": {},
     "output_type": "execute_result"
    }
   ],
   "source": [
    "events_df['data_tutorial_start'] = events_df[events_df['event_type'] =='tutorial_start']['event_datetime']\n",
    "event_data_tutorial_start = events_df.copy()\n",
    "event_data_tutorial_start = event_data_tutorial_start.drop(['event_id', 'event_type', 'selected_level', 'event_datetime', 'tutorial_id', 'data_level_choice'], axis=1)\n",
    "event_data_tutorial_start = event_data_tutorial_start.dropna(subset='data_tutorial_start',axis=0)\n",
    "event_data_tutorial_start.head()"
   ]
  },
  {
   "cell_type": "markdown",
   "metadata": {},
   "source": [
    "Объединим наши таблицы:"
   ]
  },
  {
   "cell_type": "code",
   "execution_count": 354,
   "metadata": {},
   "outputs": [
    {
     "data": {
      "text/html": [
       "<div>\n",
       "<style scoped>\n",
       "    .dataframe tbody tr th:only-of-type {\n",
       "        vertical-align: middle;\n",
       "    }\n",
       "\n",
       "    .dataframe tbody tr th {\n",
       "        vertical-align: top;\n",
       "    }\n",
       "\n",
       "    .dataframe thead th {\n",
       "        text-align: right;\n",
       "    }\n",
       "</style>\n",
       "<table border=\"1\" class=\"dataframe\">\n",
       "  <thead>\n",
       "    <tr style=\"text-align: right;\">\n",
       "      <th></th>\n",
       "      <th>user_id</th>\n",
       "      <th>data_level_choice</th>\n",
       "      <th>data_tutorial_start</th>\n",
       "    </tr>\n",
       "  </thead>\n",
       "  <tbody>\n",
       "    <tr>\n",
       "      <th>0</th>\n",
       "      <td>27835</td>\n",
       "      <td>2018-01-01 20:37:22</td>\n",
       "      <td>2018-01-01 15:00:51</td>\n",
       "    </tr>\n",
       "    <tr>\n",
       "      <th>1</th>\n",
       "      <td>27839</td>\n",
       "      <td>2018-01-01 22:37:50</td>\n",
       "      <td>2018-01-01 19:11:36</td>\n",
       "    </tr>\n",
       "    <tr>\n",
       "      <th>2</th>\n",
       "      <td>27840</td>\n",
       "      <td>2018-01-02 05:18:42</td>\n",
       "      <td>2018-01-02 02:07:07</td>\n",
       "    </tr>\n",
       "    <tr>\n",
       "      <th>3</th>\n",
       "      <td>27845</td>\n",
       "      <td>2018-01-02 06:19:18</td>\n",
       "      <td>2018-01-02 03:03:44</td>\n",
       "    </tr>\n",
       "    <tr>\n",
       "      <th>4</th>\n",
       "      <td>27845</td>\n",
       "      <td>2018-01-02 06:19:18</td>\n",
       "      <td>2018-01-02 07:08:00</td>\n",
       "    </tr>\n",
       "  </tbody>\n",
       "</table>\n",
       "</div>"
      ],
      "text/plain": [
       "   user_id   data_level_choice data_tutorial_start\n",
       "0    27835 2018-01-01 20:37:22 2018-01-01 15:00:51\n",
       "1    27839 2018-01-01 22:37:50 2018-01-01 19:11:36\n",
       "2    27840 2018-01-02 05:18:42 2018-01-02 02:07:07\n",
       "3    27845 2018-01-02 06:19:18 2018-01-02 03:03:44\n",
       "4    27845 2018-01-02 06:19:18 2018-01-02 07:08:00"
      ]
     },
     "execution_count": 354,
     "metadata": {},
     "output_type": "execute_result"
    }
   ],
   "source": [
    "event_data = event_data_level.merge(\n",
    "    event_data_tutorial_start,\n",
    "    on = 'user_id',\n",
    "    how = 'left'\n",
    ")\n",
    "event_data.head()"
   ]
  },
  {
   "cell_type": "markdown",
   "metadata": {},
   "source": [
    "Теперь создадим столбец, указывающий, какое событие произошло раньше:"
   ]
  },
  {
   "cell_type": "code",
   "execution_count": 355,
   "metadata": {},
   "outputs": [
    {
     "data": {
      "text/html": [
       "<div>\n",
       "<style scoped>\n",
       "    .dataframe tbody tr th:only-of-type {\n",
       "        vertical-align: middle;\n",
       "    }\n",
       "\n",
       "    .dataframe tbody tr th {\n",
       "        vertical-align: top;\n",
       "    }\n",
       "\n",
       "    .dataframe thead th {\n",
       "        text-align: right;\n",
       "    }\n",
       "</style>\n",
       "<table border=\"1\" class=\"dataframe\">\n",
       "  <thead>\n",
       "    <tr style=\"text-align: right;\">\n",
       "      <th></th>\n",
       "      <th>user_id</th>\n",
       "      <th>data_level_choice</th>\n",
       "      <th>data_tutorial_start</th>\n",
       "      <th>timedelta</th>\n",
       "    </tr>\n",
       "  </thead>\n",
       "  <tbody>\n",
       "    <tr>\n",
       "      <th>0</th>\n",
       "      <td>27835</td>\n",
       "      <td>2018-01-01 20:37:22</td>\n",
       "      <td>2018-01-01 15:00:51</td>\n",
       "      <td>0 days 05:36:31</td>\n",
       "    </tr>\n",
       "    <tr>\n",
       "      <th>1</th>\n",
       "      <td>27839</td>\n",
       "      <td>2018-01-01 22:37:50</td>\n",
       "      <td>2018-01-01 19:11:36</td>\n",
       "      <td>0 days 03:26:14</td>\n",
       "    </tr>\n",
       "    <tr>\n",
       "      <th>2</th>\n",
       "      <td>27840</td>\n",
       "      <td>2018-01-02 05:18:42</td>\n",
       "      <td>2018-01-02 02:07:07</td>\n",
       "      <td>0 days 03:11:35</td>\n",
       "    </tr>\n",
       "    <tr>\n",
       "      <th>3</th>\n",
       "      <td>27845</td>\n",
       "      <td>2018-01-02 06:19:18</td>\n",
       "      <td>2018-01-02 03:03:44</td>\n",
       "      <td>0 days 03:15:34</td>\n",
       "    </tr>\n",
       "    <tr>\n",
       "      <th>4</th>\n",
       "      <td>27845</td>\n",
       "      <td>2018-01-02 06:19:18</td>\n",
       "      <td>2018-01-02 07:08:00</td>\n",
       "      <td>-1 days +23:11:18</td>\n",
       "    </tr>\n",
       "  </tbody>\n",
       "</table>\n",
       "</div>"
      ],
      "text/plain": [
       "   user_id   data_level_choice data_tutorial_start         timedelta\n",
       "0    27835 2018-01-01 20:37:22 2018-01-01 15:00:51   0 days 05:36:31\n",
       "1    27839 2018-01-01 22:37:50 2018-01-01 19:11:36   0 days 03:26:14\n",
       "2    27840 2018-01-02 05:18:42 2018-01-02 02:07:07   0 days 03:11:35\n",
       "3    27845 2018-01-02 06:19:18 2018-01-02 03:03:44   0 days 03:15:34\n",
       "4    27845 2018-01-02 06:19:18 2018-01-02 07:08:00 -1 days +23:11:18"
      ]
     },
     "execution_count": 355,
     "metadata": {},
     "output_type": "execute_result"
    }
   ],
   "source": [
    "event_data['timedelta'] = event_data['data_level_choice'] - event_data['data_tutorial_start']\n",
    "event_data.head()"
   ]
  },
  {
   "cell_type": "code",
   "execution_count": null,
   "metadata": {},
   "outputs": [
    {
     "name": "stdout",
     "output_type": "stream",
     "text": [
      "Количество пользователей, начавших обучение после выбора уровня сложности: 1386\n",
      "Общее количество пользователей, которые выбрали уровень сложности: 8342\n",
      "Процент пользователей, начавших обучение после выбора уровня сложности: 16.61%\n"
     ]
    }
   ],
   "source": [
    "user_event_data = event_data[event_data['timedelta']/pd.Timedelta('1 hour') < 0]['user_id'].nunique()\n",
    "all_user_event_data = event_data['user_id'].nunique()\n",
    "data = user_event_data/all_user_event_data\n",
    "\n",
    "print(\n",
    "    \"Количество пользователей, начавших обучение после выбора уровня сложности: {}\".format(\n",
    "        user_event_data\n",
    "    )\n",
    ")\n",
    "print(\n",
    "    \"Общее количество пользователей, которые выбрали уровень сложности: {}\".format(\n",
    "        all_user_event_data\n",
    "    )\n",
    ")\n",
    "print(\n",
    "    \"Процент пользователей, начавших обучение после выбора уровня сложности: {:.2%}\".format(\n",
    "        data\n",
    "    )\n",
    ")"
   ]
  },
  {
   "cell_type": "markdown",
   "metadata": {},
   "source": [
    "## Выводы по гипотезе 3\n",
    "#### Согласно расчетам получилось, что 16,61% пользователей после выбора уровня сложности проходят обучение. На основе данных можем сказать, что процесс взаимодействия с игрой не совсем прозрачен."
   ]
  },
  {
   "cell_type": "markdown",
   "metadata": {},
   "source": [
    "## Общие выводы по всему проекту\n",
    "#### В данном проекте нами было проведено исследование поведения пользователей в обновлённом приложении. Увидели, что пользователи, прошедшие обучение, быстрее совершают оплату, чем пользователи не прошедшие обучение.  Успешное обучение само по себе влияет на оплату и не имеет значения то, каким этапом оно шло. Большое количество пользователей проходит обучение после выбора уровней сложности, это нам говорит о том, что работа с приложением непонятна."
   ]
  }
 ],
 "metadata": {
  "kernelspec": {
   "display_name": "Python 3.9.7 64-bit",
   "language": "python",
   "name": "python3"
  },
  "language_info": {
   "codemirror_mode": {
    "name": "ipython",
    "version": 3
   },
   "file_extension": ".py",
   "mimetype": "text/x-python",
   "name": "python",
   "nbconvert_exporter": "python",
   "pygments_lexer": "ipython3",
   "version": "3.9.7"
  },
  "orig_nbformat": 4,
  "vscode": {
   "interpreter": {
    "hash": "dd30dd3e88d11e2c5c8ec7e911289ef1000d11f7926f8d25b9dddd4af71e552d"
   }
  }
 },
 "nbformat": 4,
 "nbformat_minor": 2
}
